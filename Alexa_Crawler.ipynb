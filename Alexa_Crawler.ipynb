{
 "cells": [
  {
   "cell_type": "code",
   "execution_count": 139,
   "metadata": {},
   "outputs": [],
   "source": [
    "from selenium import webdriver\n",
    "from selenium.webdriver.common.by import By\n",
    "from selenium.webdriver.support import expected_conditions as EC\n",
    "from selenium.webdriver.support.wait import WebDriverWait\n",
    "import re\n",
    "driver = webdriver.Chrome()\n",
    "driver.maximize_window()  \n",
    "wait = WebDriverWait(browser, 1) \n",
    "\n",
    "def login():\n",
    "    driver.get('https://www.alexa.com/login')\n",
    "\n",
    "    driver.find_element_by_id(\"email\").send_keys(\"xxx\")\n",
    "    driver.find_element_by_id(\"pwd\").send_keys(\"xxx\")\n",
    "    driver.find_element_by_id(\"submit\").click()"
   ]
  },
  {
   "cell_type": "code",
   "execution_count": 140,
   "metadata": {},
   "outputs": [],
   "source": [
    "login()\n",
    "##we need to navigate to top sites **by hand** here"
   ]
  },
  {
   "cell_type": "code",
   "execution_count": 134,
   "metadata": {},
   "outputs": [
    {
     "name": "stdout",
     "output_type": "stream",
     "text": [
      "25\n",
      "50\n",
      "75\n",
      "100\n",
      "125\n",
      "150\n",
      "175\n",
      "200\n",
      "225\n",
      "250\n",
      "275\n",
      "300\n",
      "325\n",
      "350\n",
      "375\n",
      "400\n",
      "425\n",
      "450\n",
      "475\n",
      "500\n"
     ]
    }
   ],
   "source": [
    "urls = []\n",
    "#start to automatically crawl websites\n",
    "total_page = 20\n",
    "for i in range(total_page):\n",
    "    url = \"https://www.alexa.com/topsites/global;\"+str(i)\n",
    "    driver.get(url)\n",
    "    html = driver.page_source\n",
    "    r = re.compile('(?<=href=\")/siteinfo/(.*?(?=\"))')\n",
    "    urls += r.findall(html)\n",
    "print(len(urls))\n",
    "\n"
   ]
  },
  {
   "cell_type": "code",
   "execution_count": 137,
   "metadata": {},
   "outputs": [],
   "source": [
    "with open(\"global_top_500.txt\",'w') as f:\n",
    "    for i, url in enumerate(urls):\n",
    "        if i == len(urls)-1:\n",
    "            f.write(url)\n",
    "        else:\n",
    "            f.write(url+'\\n')"
   ]
  },
  {
   "cell_type": "code",
   "execution_count": 144,
   "metadata": {},
   "outputs": [
    {
     "name": "stdout",
     "output_type": "stream",
     "text": [
      "500\n"
     ]
    }
   ],
   "source": [
    "urls = []\n",
    "#start to automatically crawl websites\n",
    "total_page = 20\n",
    "for i in range(total_page):\n",
    "    url = \"https://www.alexa.com/topsites/countries;\"+str(i)+\"/HK\"\n",
    "    driver.get(url)\n",
    "    html = driver.page_source\n",
    "    r = re.compile('(?<=href=\")/siteinfo/(.*?(?=\"))')\n",
    "    urls += r.findall(html)\n",
    "print(len(urls))\n",
    "\n",
    "with open(\"HK_top_500.txt\",'w') as f:\n",
    "    for i, url in enumerate(urls):\n",
    "        if i == len(urls)-1:\n",
    "            f.write(url)\n",
    "        else:\n",
    "            f.write(url+'\\n')"
   ]
  },
  {
   "cell_type": "code",
   "execution_count": 145,
   "metadata": {},
   "outputs": [
    {
     "name": "stdout",
     "output_type": "stream",
     "text": [
      "500\n"
     ]
    }
   ],
   "source": [
    "urls = []\n",
    "#start to automatically crawl websites\n",
    "total_page = 20\n",
    "for i in range(total_page):\n",
    "    url = \"https://www.alexa.com/topsites/countries;\"+str(i)+\"/CN\"\n",
    "    driver.get(url)\n",
    "    html = driver.page_source\n",
    "    r = re.compile('(?<=href=\")/siteinfo/(.*?(?=\"))')\n",
    "    urls += r.findall(html)\n",
    "print(len(urls))\n",
    "\n",
    "with open(\"CN_top_500.txt\",'w') as f:\n",
    "    for i, url in enumerate(urls):\n",
    "        if i == len(urls)-1:\n",
    "            f.write(url)\n",
    "        else:\n",
    "            f.write(url+'\\n')"
   ]
  },
  {
   "cell_type": "code",
   "execution_count": null,
   "metadata": {},
   "outputs": [],
   "source": []
  }
 ],
 "metadata": {
  "kernelspec": {
   "display_name": "Python 3",
   "language": "python",
   "name": "python3"
  },
  "language_info": {
   "codemirror_mode": {
    "name": "ipython",
    "version": 3
   },
   "file_extension": ".py",
   "mimetype": "text/x-python",
   "name": "python",
   "nbconvert_exporter": "python",
   "pygments_lexer": "ipython3",
   "version": "3.7.3"
  }
 },
 "nbformat": 4,
 "nbformat_minor": 2
}
